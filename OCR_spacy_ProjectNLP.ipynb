{
  "cells": [
    {
      "cell_type": "markdown",
      "metadata": {
        "id": "BGkj3LjsMW4K"
      },
      "source": [
        "# **OCR for image-based PDFs**"
      ]
    },
    {
      "cell_type": "code",
      "execution_count": null,
      "metadata": {
        "colab": {
          "base_uri": "https://localhost:8080/"
        },
        "collapsed": true,
        "id": "tiiEYFkYCrsK",
        "outputId": "a18f4b20-14a7-4751-9006-9b574114b5f0"
      },
      "outputs": [
        {
          "output_type": "stream",
          "name": "stdout",
          "text": [
            "Reading package lists... Done\n",
            "Building dependency tree... Done\n",
            "Reading state information... Done\n",
            "The following NEW packages will be installed:\n",
            "  poppler-utils\n",
            "0 upgraded, 1 newly installed, 0 to remove and 29 not upgraded.\n",
            "Need to get 186 kB of archives.\n",
            "After this operation, 696 kB of additional disk space will be used.\n",
            "Get:1 http://archive.ubuntu.com/ubuntu jammy-updates/main amd64 poppler-utils amd64 22.02.0-2ubuntu0.6 [186 kB]\n",
            "Fetched 186 kB in 2s (120 kB/s)\n",
            "Selecting previously unselected package poppler-utils.\n",
            "(Reading database ... 126209 files and directories currently installed.)\n",
            "Preparing to unpack .../poppler-utils_22.02.0-2ubuntu0.6_amd64.deb ...\n",
            "Unpacking poppler-utils (22.02.0-2ubuntu0.6) ...\n",
            "Setting up poppler-utils (22.02.0-2ubuntu0.6) ...\n",
            "Processing triggers for man-db (2.10.2-1) ...\n"
          ]
        }
      ],
      "source": [
        "!apt-get install -y poppler-utils"
      ]
    },
    {
      "cell_type": "code",
      "execution_count": null,
      "metadata": {
        "colab": {
          "base_uri": "https://localhost:8080/"
        },
        "collapsed": true,
        "id": "Hqk9cQc2C2jx",
        "outputId": "85c2f131-31ee-4bbe-9b33-b6461a26f3cd"
      },
      "outputs": [
        {
          "output_type": "stream",
          "name": "stdout",
          "text": [
            "Reading package lists... Done\n",
            "Building dependency tree... Done\n",
            "Reading state information... Done\n",
            "The following additional packages will be installed:\n",
            "  tesseract-ocr-eng tesseract-ocr-osd\n",
            "The following NEW packages will be installed:\n",
            "  tesseract-ocr tesseract-ocr-eng tesseract-ocr-osd\n",
            "0 upgraded, 3 newly installed, 0 to remove and 29 not upgraded.\n",
            "Need to get 4,816 kB of archives.\n",
            "After this operation, 15.6 MB of additional disk space will be used.\n",
            "Get:1 http://archive.ubuntu.com/ubuntu jammy/universe amd64 tesseract-ocr-eng all 1:4.00~git30-7274cfa-1.1 [1,591 kB]\n",
            "Get:2 http://archive.ubuntu.com/ubuntu jammy/universe amd64 tesseract-ocr-osd all 1:4.00~git30-7274cfa-1.1 [2,990 kB]\n",
            "Get:3 http://archive.ubuntu.com/ubuntu jammy/universe amd64 tesseract-ocr amd64 4.1.1-2.1build1 [236 kB]\n",
            "Fetched 4,816 kB in 3s (1,886 kB/s)\n",
            "Selecting previously unselected package tesseract-ocr-eng.\n",
            "(Reading database ... 126239 files and directories currently installed.)\n",
            "Preparing to unpack .../tesseract-ocr-eng_1%3a4.00~git30-7274cfa-1.1_all.deb ...\n",
            "Unpacking tesseract-ocr-eng (1:4.00~git30-7274cfa-1.1) ...\n",
            "Selecting previously unselected package tesseract-ocr-osd.\n",
            "Preparing to unpack .../tesseract-ocr-osd_1%3a4.00~git30-7274cfa-1.1_all.deb ...\n",
            "Unpacking tesseract-ocr-osd (1:4.00~git30-7274cfa-1.1) ...\n",
            "Selecting previously unselected package tesseract-ocr.\n",
            "Preparing to unpack .../tesseract-ocr_4.1.1-2.1build1_amd64.deb ...\n",
            "Unpacking tesseract-ocr (4.1.1-2.1build1) ...\n",
            "Setting up tesseract-ocr-eng (1:4.00~git30-7274cfa-1.1) ...\n",
            "Setting up tesseract-ocr-osd (1:4.00~git30-7274cfa-1.1) ...\n",
            "Setting up tesseract-ocr (4.1.1-2.1build1) ...\n",
            "Processing triggers for man-db (2.10.2-1) ...\n"
          ]
        }
      ],
      "source": [
        "!apt-get install -y tesseract-ocr"
      ]
    },
    {
      "cell_type": "code",
      "execution_count": null,
      "metadata": {
        "colab": {
          "base_uri": "https://localhost:8080/"
        },
        "collapsed": true,
        "id": "9VUkz6QD-_dS",
        "outputId": "e6a36cdc-cf63-4237-bf62-cf08a9610118"
      },
      "outputs": [
        {
          "output_type": "stream",
          "name": "stdout",
          "text": [
            "Collecting pytesseract\n",
            "  Downloading pytesseract-0.3.13-py3-none-any.whl.metadata (11 kB)\n",
            "Collecting pdf2image\n",
            "  Downloading pdf2image-1.17.0-py3-none-any.whl.metadata (6.2 kB)\n",
            "Requirement already satisfied: packaging>=21.3 in /usr/local/lib/python3.11/dist-packages (from pytesseract) (24.2)\n",
            "Requirement already satisfied: Pillow>=8.0.0 in /usr/local/lib/python3.11/dist-packages (from pytesseract) (11.1.0)\n",
            "Downloading pytesseract-0.3.13-py3-none-any.whl (14 kB)\n",
            "Downloading pdf2image-1.17.0-py3-none-any.whl (11 kB)\n",
            "Installing collected packages: pytesseract, pdf2image\n",
            "Successfully installed pdf2image-1.17.0 pytesseract-0.3.13\n"
          ]
        }
      ],
      "source": [
        "! pip install pytesseract pdf2image"
      ]
    },
    {
      "cell_type": "code",
      "execution_count": null,
      "metadata": {
        "colab": {
          "base_uri": "https://localhost:8080/"
        },
        "id": "PLa5b0593voA",
        "outputId": "65717ff8-2723-4172-ca2c-28ba959a1f05"
      },
      "outputs": [
        {
          "output_type": "stream",
          "name": "stdout",
          "text": [
            "Ayush Srivastava\n",
            "\n",
            "Web Developer\n",
            "\n",
            "Final year B.Tech student with 3+ years of experience in building\n",
            "web applications, college projects, freelancing, and contributing to\n",
            "Open Source Softwares.\n",
            "\n",
            "EXPERIENCE\n",
            "\n",
            "img — Software Engineer Intern\n",
            "Jan 2020 - Present\n",
            "\n",
            "Avanti Learning Centres — Data Visualization Analyst\n",
            "Jul 2019 - Aug 2019\n",
            "\n",
            "Responsibilities\n",
            "\n",
            "Task 1 - Report card generator\n",
            "\n",
            "Task 2 - Automate student summary generation in bulk\n",
            "\n",
            "Motion Invite — UI/UX & Front-end Developer\n",
            "Jan 2018 - Mar 2018\n",
            "\n",
            "Responsibilities\n",
            "\n",
            "Task 1 - Redesign the existed website\n",
            "\n",
            "Task 2 - Develop the redesigned version\n",
            "\n",
            "Edcams — Front-end Developer\n",
            "Nov 2017 - Jan 2018\n",
            "\n",
            "Responsibilities\n",
            "Task 1 - Fix the bugs\n",
            "\n",
            "Task 2 - Develop a new sign up portal\n",
            "EDUCATION\n",
            "\n",
            "JSSATE, Noida — B.Tech\n",
            "2016 - Present\n",
            "\n",
            "e Average Percentage - 74.20%\n",
            "e Coursework included\n",
            "\n",
            "o Algorithms\n",
            "o Data Structures\n",
            "o SQL based DBMS\n",
            "o Turing Machines\n",
            "o OS Concepts\n",
            "e Have taken hands-on workshops on\n",
            "o =6C/C++ Programming\n",
            "o Designing (UI/UX & Photoshop)\n",
            "o Web Development (HTML & CSS)\n",
            "\n",
            "JSS Boys Hostel, C Block,\n",
            "Sector - 62, Noida.\n",
            "(+91) 9599025432\n",
            "\n",
            "srivastavs61@gmail.com\n",
            "linkedin.com/in/geekayush\n",
            "github.com/geekayush\n",
            "geekayush.github.io\n",
            "\n",
            "SKILLS\n",
            "\n",
            "Frontend:\n",
            "\n",
            "ReactJS, Gatsby, jQuery, JavaScript,\n",
            "HTML, CSS, Materialize, Bootstrap,\n",
            "Bulma\n",
            "\n",
            "Backend: Flask\n",
            "\n",
            "Data Visualization: D3, Matplotlib\n",
            "Data Analysis: Pandas\n",
            "\n",
            "Cloud Suite: Google Cloud Platform\n",
            "\n",
            "Programming Languages: C++, C,\n",
            "Python\n",
            "\n",
            "Database: Oracle SQL\n",
            "\n",
            "Data Structures and Algorithms in\n",
            "C++\n",
            "\n",
            "Agile/Scrum and Design thinking\n",
            "approaches\n",
            "\n",
            "ACHIEVEMENTS\n",
            "\n",
            "Special mention at DevFest\n",
            "Noida-18 for FitMo (React-based\n",
            "native application gamifying the\n",
            "motivation towards fitness)\n",
            "\n",
            " \n",
            "\n",
            "Among top 10 national finalists at\n",
            "Social Track organized by\n",
            "ECell-IITK\n",
            "\n",
            "Second runner-up at B-Plan\n",
            "competition organized by ATTAC\n",
            "NGO\n",
            "\fAvanti Fellows\n",
            "2015 - 2016\n",
            "e Cleared zonal test to get selected among the top 4 students\n",
            "to receive a full one-year scholarship to study for\n",
            "engineering entrance examinations\n",
            "e Cleared JEE Mains\n",
            "© 97.90 (All India Percentile Score)\n",
            "o 644,344 (CRL Rank)\n",
            "e Cleared JEE Advanced\n",
            "© 18052 (CRL Rank)\n",
            "e Cleared UPSEE\n",
            "o 4880 (General open rank)\n",
            "\n",
            "CBSE\n",
            "2000 - 2015\n",
            "\n",
            "e Stood 1st in SOF NCO at the school-level and 10th at the\n",
            "city-level\n",
            "\n",
            "e Passed 10th - 9.8 CGPA\n",
            "\n",
            "e Passed 12th - 90%\n",
            "\n",
            "PROJECTS\n",
            "Know Your College — React-based web app to explore\n",
            "college\n",
            "\n",
            "Aweb application which will help students and faculties of JSSATE\n",
            "to explore various sections of the college. Developed on ReactJS\n",
            "with backend on NodeJS. Link (Beta)\n",
            "\n",
            "Code Compiler — Competitive Programming playground\n",
            "\n",
            "A set of programming questions with an online IDE to compile and\n",
            "check whether the program clears the tasks or not. A leaderboard to\n",
            "display standings. Link\n",
            "\n",
            "Sherlocked — Quiz game\n",
            "\n",
            "Aweb quiz based on the theme of Sherlock Holmes where a\n",
            "participant must answer a question within a running time limit.\n",
            "\n",
            "POSITIONS OF RESPONSIBILITY\n",
            "\n",
            "OPEN SOURCE CONTRIBUTIONS\n",
            "\n",
            "CloudCV - EvalAI\n",
            "\n",
            "CloudCV - Origami\n",
            "\n",
            "Open Policy Agent - opa\n",
            "Creative Commons -\n",
            "cccatalogfrontend\n",
            "\n",
            "Fossasia - summit.fossasia.org\n",
            "Open Climate Fix - website\n",
            "Facebook - react-360\n",
            "\n",
            "Sapient Global Markets -\n",
            "react-querybuilder\n",
            "Anitab-org - mentorship-backend\n",
            "Material Components -\n",
            "\n",
            "material-components-web-react\n",
            "Uber - Manifold\n",
            "\n",
            "CERTIFICATIONS\n",
            "\n",
            "HTML Fundamentals\n",
            "CSS Fundamentals\n",
            "SQL Fundamentals\n",
            "\n",
            "INTERESTS\n",
            "\n",
            "Web Development\n",
            "Machine Learning\n",
            "Automation\n",
            "\n",
            "Head of Web Club — Nibble Computer Society (Official society of CSE Department)\n",
            "\n",
            "Technical Head — Entrepreneurship Development Cell (Official E-CELL of JSSATE)\n",
            "\n",
            "Operations/Technical Head — E-Summit’19 NOIDA\n",
            "\f\n"
          ]
        }
      ],
      "source": [
        "import pytesseract\n",
        "from pdf2image import convert_from_path\n",
        "\n",
        "def ocr_pdf(file_path):\n",
        "    pages = convert_from_path(file_path)\n",
        "    text = \"\"\n",
        "    for page in pages:\n",
        "        text += pytesseract.image_to_string(page)\n",
        "    return text\n",
        "\n",
        "#exemple usage with an image-based pdf\n",
        "file_path = 'Resume - Ayush Srivastava.pdf'\n",
        "extracted_text = ocr_pdf(file_path)\n",
        "print(extracted_text)\n"
      ]
    },
    {
      "cell_type": "markdown",
      "metadata": {
        "id": "4PBcBPApX54Q"
      },
      "source": [
        "\n",
        "# **NER**"
      ]
    },
    {
      "cell_type": "code",
      "execution_count": null,
      "metadata": {
        "colab": {
          "base_uri": "https://localhost:8080/"
        },
        "collapsed": true,
        "id": "-51_s77QhgdE",
        "outputId": "41b58ee5-ef3a-473a-9dcd-ed6be31e127f"
      },
      "outputs": [
        {
          "output_type": "stream",
          "name": "stdout",
          "text": [
            "\u001b[31mERROR: Invalid requirement: 'en-Resume-Parser-pipeline==any': Expected end or semicolon (after name and no valid version specifier)\n",
            "    en-Resume-Parser-pipeline==any\n",
            "                             ^\u001b[0m\u001b[31m\n",
            "\u001b[0m"
          ]
        }
      ],
      "source": [
        "!pip install https://huggingface.co/Arsalan831/en_Resume_Parser_pipeline/resolve/main/en_Resume_Parser_pipeline-any-py3-none-any.whl\n"
      ]
    },
    {
      "cell_type": "code",
      "source": [
        "import spacy\n"
      ],
      "metadata": {
        "id": "cB21l1_zLKgt"
      },
      "execution_count": null,
      "outputs": []
    },
    {
      "cell_type": "code",
      "source": [
        "!python -m spacy download en_core_web_md"
      ],
      "metadata": {
        "colab": {
          "base_uri": "https://localhost:8080/"
        },
        "id": "wux40DctM-Rn",
        "outputId": "674a475e-7380-40ac-e2b0-e412aa123869"
      },
      "execution_count": null,
      "outputs": [
        {
          "output_type": "stream",
          "name": "stdout",
          "text": [
            "Collecting en-core-web-md==3.8.0\n",
            "  Downloading https://github.com/explosion/spacy-models/releases/download/en_core_web_md-3.8.0/en_core_web_md-3.8.0-py3-none-any.whl (33.5 MB)\n",
            "\u001b[2K     \u001b[90m━━━━━━━━━━━━━━━━━━━━━━━━━━━━━━━━━━━━━━━━\u001b[0m \u001b[32m33.5/33.5 MB\u001b[0m \u001b[31m22.4 MB/s\u001b[0m eta \u001b[36m0:00:00\u001b[0m\n",
            "\u001b[?25hInstalling collected packages: en-core-web-md\n",
            "Successfully installed en-core-web-md-3.8.0\n",
            "\u001b[38;5;2m✔ Download and installation successful\u001b[0m\n",
            "You can now load the package via spacy.load('en_core_web_md')\n",
            "\u001b[38;5;3m⚠ Restart to reload dependencies\u001b[0m\n",
            "If you are in a Jupyter or Colab notebook, you may need to restart Python in\n",
            "order to load all the package's dependencies. You can do this by selecting the\n",
            "'Restart kernel' or 'Restart runtime' option.\n"
          ]
        }
      ]
    },
    {
      "cell_type": "code",
      "execution_count": null,
      "metadata": {
        "id": "bftblKAheq5B"
      },
      "outputs": [],
      "source": [
        "nlp = spacy.load(\"en_core_web_md\")\n",
        "\n",
        "def extract_entities(cv_text):\n",
        "    \"\"\"Extrait les compétences, diplômes et expériences du CV.\"\"\"\n",
        "    doc = nlp(cv_text)\n",
        "    competences, diplomes, experiences = set(), set(), None\n",
        "\n",
        "    for ent in doc.ents:\n",
        "        if ent.label_ in [\"ORG\", \"PRODUCT\", \"SKILL\"]:\n",
        "            competences.add(ent.text)\n",
        "        elif ent.label_ in [\"EDUCATION\", \"DEGREE\"]:\n",
        "            diplomes.add(ent.text)\n",
        "        elif ent.label_ == \"DATE\" and experiences is None:\n",
        "            experiences = ent.text\n",
        "\n",
        "    return list(competences), list(diplomes), experiences\n",
        "\n",
        "skills, degrees, experience = extract_entities(extracted_text)"
      ]
    },
    {
      "cell_type": "code",
      "source": [
        "print(\"******************************Skills:\", skills)\n",
        "print(\"*****************************Degrees:\", degrees)\n",
        "print(\"**************************Experience:\", experience)\n"
      ],
      "metadata": {
        "colab": {
          "base_uri": "https://localhost:8080/"
        },
        "id": "mLMmyipFNfWq",
        "outputId": "5fa74ec6-7dee-400f-d77c-1052340cab5f"
      },
      "execution_count": null,
      "outputs": [
        {
          "output_type": "stream",
          "name": "stdout",
          "text": [
            "******************************Skills: ['Uber - Manifold', 'Competitive Programming', 'DevFest', 'Task 2 - Develop', 'CRL Rank', 'ECell', 'Social Track', 'CloudCV - EvalAI', 'Oracle SQL', 'CSE Department', 'Flask\\n\\nData Visualization', 'HTML Fundamentals\\nCSS Fundamentals', 'SQL Fundamentals', 'Facebook - react-360', 'Web Club', 'JSSATE', 'Web Development', 'Matplotlib\\nData Analysis', 'Creative Commons', 'HTML & CSS', 'SQL', 'Data Structures', 'JavaScript', 'Material Components', 'DBMS\\no', 'ATTAC', 'Task 2 - Automate']\n",
            "*****************************Degrees: []\n",
            "**************************Experience: 3+ years\n"
          ]
        }
      ]
    },
    {
      "cell_type": "code",
      "source": [
        "!pip install nltk pyresparser"
      ],
      "metadata": {
        "colab": {
          "base_uri": "https://localhost:8080/"
        },
        "collapsed": true,
        "id": "CV4hQ7dpPvF9",
        "outputId": "2da86e71-45c1-4167-fd30-f42af4e84d37"
      },
      "execution_count": 27,
      "outputs": [
        {
          "output_type": "stream",
          "name": "stdout",
          "text": [
            "Requirement already satisfied: nltk in /usr/local/lib/python3.11/dist-packages (3.9.1)\n",
            "Requirement already satisfied: pyresparser in /usr/local/lib/python3.11/dist-packages (1.0.6)\n",
            "Requirement already satisfied: click in /usr/local/lib/python3.11/dist-packages (from nltk) (8.1.8)\n",
            "Requirement already satisfied: joblib in /usr/local/lib/python3.11/dist-packages (from nltk) (1.4.2)\n",
            "Requirement already satisfied: regex>=2021.8.3 in /usr/local/lib/python3.11/dist-packages (from nltk) (2024.11.6)\n",
            "Requirement already satisfied: tqdm in /usr/local/lib/python3.11/dist-packages (from nltk) (4.67.1)\n",
            "Requirement already satisfied: attrs>=19.1.0 in /usr/local/lib/python3.11/dist-packages (from pyresparser) (25.3.0)\n",
            "Requirement already satisfied: blis>=0.2.4 in /usr/local/lib/python3.11/dist-packages (from pyresparser) (1.2.0)\n",
            "Requirement already satisfied: certifi>=2019.6.16 in /usr/local/lib/python3.11/dist-packages (from pyresparser) (2025.1.31)\n",
            "Requirement already satisfied: chardet>=3.0.4 in /usr/local/lib/python3.11/dist-packages (from pyresparser) (5.2.0)\n",
            "Requirement already satisfied: cymem>=2.0.2 in /usr/local/lib/python3.11/dist-packages (from pyresparser) (2.0.11)\n",
            "Requirement already satisfied: docx2txt>=0.7 in /usr/local/lib/python3.11/dist-packages (from pyresparser) (0.8)\n",
            "Requirement already satisfied: idna>=2.8 in /usr/local/lib/python3.11/dist-packages (from pyresparser) (3.10)\n",
            "Requirement already satisfied: jsonschema>=3.0.1 in /usr/local/lib/python3.11/dist-packages (from pyresparser) (4.23.0)\n",
            "Requirement already satisfied: numpy>=1.16.4 in /usr/local/lib/python3.11/dist-packages (from pyresparser) (2.0.2)\n",
            "Requirement already satisfied: pandas>=0.24.2 in /usr/local/lib/python3.11/dist-packages (from pyresparser) (2.2.2)\n",
            "Requirement already satisfied: pdfminer.six>=20181108 in /usr/local/lib/python3.11/dist-packages (from pyresparser) (20240706)\n",
            "Requirement already satisfied: preshed>=2.0.1 in /usr/local/lib/python3.11/dist-packages (from pyresparser) (3.0.9)\n",
            "Requirement already satisfied: pycryptodome>=3.8.2 in /usr/local/lib/python3.11/dist-packages (from pyresparser) (3.22.0)\n",
            "Requirement already satisfied: pyrsistent>=0.15.2 in /usr/local/lib/python3.11/dist-packages (from pyresparser) (0.20.0)\n",
            "Requirement already satisfied: python-dateutil>=2.8.0 in /usr/local/lib/python3.11/dist-packages (from pyresparser) (2.8.2)\n",
            "Requirement already satisfied: pytz>=2019.1 in /usr/local/lib/python3.11/dist-packages (from pyresparser) (2025.1)\n",
            "Requirement already satisfied: requests>=2.22.0 in /usr/local/lib/python3.11/dist-packages (from pyresparser) (2.32.3)\n",
            "Requirement already satisfied: six>=1.12.0 in /usr/local/lib/python3.11/dist-packages (from pyresparser) (1.17.0)\n",
            "Requirement already satisfied: sortedcontainers>=2.1.0 in /usr/local/lib/python3.11/dist-packages (from pyresparser) (2.4.0)\n",
            "Requirement already satisfied: spacy>=2.1.4 in /usr/local/lib/python3.11/dist-packages (from pyresparser) (3.8.4)\n",
            "Requirement already satisfied: srsly>=0.0.7 in /usr/local/lib/python3.11/dist-packages (from pyresparser) (2.5.1)\n",
            "Requirement already satisfied: thinc>=7.0.4 in /usr/local/lib/python3.11/dist-packages (from pyresparser) (8.3.4)\n",
            "Requirement already satisfied: urllib3>=1.25.3 in /usr/local/lib/python3.11/dist-packages (from pyresparser) (2.3.0)\n",
            "Requirement already satisfied: wasabi>=0.2.2 in /usr/local/lib/python3.11/dist-packages (from pyresparser) (1.1.3)\n",
            "Requirement already satisfied: jsonschema-specifications>=2023.03.6 in /usr/local/lib/python3.11/dist-packages (from jsonschema>=3.0.1->pyresparser) (2024.10.1)\n",
            "Requirement already satisfied: referencing>=0.28.4 in /usr/local/lib/python3.11/dist-packages (from jsonschema>=3.0.1->pyresparser) (0.36.2)\n",
            "Requirement already satisfied: rpds-py>=0.7.1 in /usr/local/lib/python3.11/dist-packages (from jsonschema>=3.0.1->pyresparser) (0.23.1)\n",
            "Requirement already satisfied: tzdata>=2022.7 in /usr/local/lib/python3.11/dist-packages (from pandas>=0.24.2->pyresparser) (2025.1)\n",
            "Requirement already satisfied: charset-normalizer>=2.0.0 in /usr/local/lib/python3.11/dist-packages (from pdfminer.six>=20181108->pyresparser) (3.4.1)\n",
            "Requirement already satisfied: cryptography>=36.0.0 in /usr/local/lib/python3.11/dist-packages (from pdfminer.six>=20181108->pyresparser) (43.0.3)\n",
            "Requirement already satisfied: murmurhash<1.1.0,>=0.28.0 in /usr/local/lib/python3.11/dist-packages (from preshed>=2.0.1->pyresparser) (1.0.12)\n",
            "Requirement already satisfied: spacy-legacy<3.1.0,>=3.0.11 in /usr/local/lib/python3.11/dist-packages (from spacy>=2.1.4->pyresparser) (3.0.12)\n",
            "Requirement already satisfied: spacy-loggers<2.0.0,>=1.0.0 in /usr/local/lib/python3.11/dist-packages (from spacy>=2.1.4->pyresparser) (1.0.5)\n",
            "Requirement already satisfied: catalogue<2.1.0,>=2.0.6 in /usr/local/lib/python3.11/dist-packages (from spacy>=2.1.4->pyresparser) (2.0.10)\n",
            "Requirement already satisfied: weasel<0.5.0,>=0.1.0 in /usr/local/lib/python3.11/dist-packages (from spacy>=2.1.4->pyresparser) (0.4.1)\n",
            "Requirement already satisfied: typer<1.0.0,>=0.3.0 in /usr/local/lib/python3.11/dist-packages (from spacy>=2.1.4->pyresparser) (0.15.2)\n",
            "Requirement already satisfied: pydantic!=1.8,!=1.8.1,<3.0.0,>=1.7.4 in /usr/local/lib/python3.11/dist-packages (from spacy>=2.1.4->pyresparser) (2.10.6)\n",
            "Requirement already satisfied: jinja2 in /usr/local/lib/python3.11/dist-packages (from spacy>=2.1.4->pyresparser) (3.1.6)\n",
            "Requirement already satisfied: setuptools in /usr/local/lib/python3.11/dist-packages (from spacy>=2.1.4->pyresparser) (75.1.0)\n",
            "Requirement already satisfied: packaging>=20.0 in /usr/local/lib/python3.11/dist-packages (from spacy>=2.1.4->pyresparser) (24.2)\n",
            "Requirement already satisfied: langcodes<4.0.0,>=3.2.0 in /usr/local/lib/python3.11/dist-packages (from spacy>=2.1.4->pyresparser) (3.5.0)\n",
            "Requirement already satisfied: confection<1.0.0,>=0.0.1 in /usr/local/lib/python3.11/dist-packages (from thinc>=7.0.4->pyresparser) (0.1.5)\n",
            "Requirement already satisfied: cffi>=1.12 in /usr/local/lib/python3.11/dist-packages (from cryptography>=36.0.0->pdfminer.six>=20181108->pyresparser) (1.17.1)\n",
            "Requirement already satisfied: language-data>=1.2 in /usr/local/lib/python3.11/dist-packages (from langcodes<4.0.0,>=3.2.0->spacy>=2.1.4->pyresparser) (1.3.0)\n",
            "Requirement already satisfied: annotated-types>=0.6.0 in /usr/local/lib/python3.11/dist-packages (from pydantic!=1.8,!=1.8.1,<3.0.0,>=1.7.4->spacy>=2.1.4->pyresparser) (0.7.0)\n",
            "Requirement already satisfied: pydantic-core==2.27.2 in /usr/local/lib/python3.11/dist-packages (from pydantic!=1.8,!=1.8.1,<3.0.0,>=1.7.4->spacy>=2.1.4->pyresparser) (2.27.2)\n",
            "Requirement already satisfied: typing-extensions>=4.12.2 in /usr/local/lib/python3.11/dist-packages (from pydantic!=1.8,!=1.8.1,<3.0.0,>=1.7.4->spacy>=2.1.4->pyresparser) (4.12.2)\n",
            "Requirement already satisfied: shellingham>=1.3.0 in /usr/local/lib/python3.11/dist-packages (from typer<1.0.0,>=0.3.0->spacy>=2.1.4->pyresparser) (1.5.4)\n",
            "Requirement already satisfied: rich>=10.11.0 in /usr/local/lib/python3.11/dist-packages (from typer<1.0.0,>=0.3.0->spacy>=2.1.4->pyresparser) (13.9.4)\n",
            "Requirement already satisfied: cloudpathlib<1.0.0,>=0.7.0 in /usr/local/lib/python3.11/dist-packages (from weasel<0.5.0,>=0.1.0->spacy>=2.1.4->pyresparser) (0.21.0)\n",
            "Requirement already satisfied: smart-open<8.0.0,>=5.2.1 in /usr/local/lib/python3.11/dist-packages (from weasel<0.5.0,>=0.1.0->spacy>=2.1.4->pyresparser) (7.1.0)\n",
            "Requirement already satisfied: MarkupSafe>=2.0 in /usr/local/lib/python3.11/dist-packages (from jinja2->spacy>=2.1.4->pyresparser) (3.0.2)\n",
            "Requirement already satisfied: pycparser in /usr/local/lib/python3.11/dist-packages (from cffi>=1.12->cryptography>=36.0.0->pdfminer.six>=20181108->pyresparser) (2.22)\n",
            "Requirement already satisfied: marisa-trie>=1.1.0 in /usr/local/lib/python3.11/dist-packages (from language-data>=1.2->langcodes<4.0.0,>=3.2.0->spacy>=2.1.4->pyresparser) (1.2.1)\n",
            "Requirement already satisfied: markdown-it-py>=2.2.0 in /usr/local/lib/python3.11/dist-packages (from rich>=10.11.0->typer<1.0.0,>=0.3.0->spacy>=2.1.4->pyresparser) (3.0.0)\n",
            "Requirement already satisfied: pygments<3.0.0,>=2.13.0 in /usr/local/lib/python3.11/dist-packages (from rich>=10.11.0->typer<1.0.0,>=0.3.0->spacy>=2.1.4->pyresparser) (2.18.0)\n",
            "Requirement already satisfied: wrapt in /usr/local/lib/python3.11/dist-packages (from smart-open<8.0.0,>=5.2.1->weasel<0.5.0,>=0.1.0->spacy>=2.1.4->pyresparser) (1.17.2)\n",
            "Requirement already satisfied: mdurl~=0.1 in /usr/local/lib/python3.11/dist-packages (from markdown-it-py>=2.2.0->rich>=10.11.0->typer<1.0.0,>=0.3.0->spacy>=2.1.4->pyresparser) (0.1.2)\n"
          ]
        }
      ]
    },
    {
      "cell_type": "code",
      "source": [
        "import nltk\n",
        "nltk.download('stopwords')"
      ],
      "metadata": {
        "colab": {
          "base_uri": "https://localhost:8080/"
        },
        "id": "P8Uo1V5HR0U5",
        "outputId": "c42f5bff-cf2d-4e54-d076-3705a598f5f0"
      },
      "execution_count": 28,
      "outputs": [
        {
          "output_type": "stream",
          "name": "stderr",
          "text": [
            "[nltk_data] Downloading package stopwords to /root/nltk_data...\n",
            "[nltk_data]   Unzipping corpora/stopwords.zip.\n"
          ]
        },
        {
          "output_type": "execute_result",
          "data": {
            "text/plain": [
              "True"
            ]
          },
          "metadata": {},
          "execution_count": 28
        }
      ]
    },
    {
      "cell_type": "code",
      "source": [
        "import spacy\n",
        "import re\n",
        "from pyresparser import ResumeParser\n",
        "\n",
        "# Download required resources\n",
        "nltk.download('stopwords')\n",
        "\n",
        "# Load spaCy's English NLP model\n",
        "nlp = spacy.load(\"en_core_web_md\")\n",
        "\n",
        "def extract_entities(cv_text):\n",
        "    \"\"\"Extract structured entities from the resume text.\"\"\"\n",
        "\n",
        "    # Process with spaCy NLP\n",
        "    doc = nlp(cv_text)\n",
        "\n",
        "    skills, degrees = set(), set()\n",
        "    experience = None\n",
        "\n",
        "    # Extract entities from spaCy\n",
        "    for ent in doc.ents:\n",
        "        if ent.label_ in [\"ORG\", \"PRODUCT\", \"SKILL\"]:  # Detect skills\n",
        "            skills.add(ent.text)\n",
        "        elif ent.label_ in [\"EDUCATION\", \"DEGREE\"]:  # Detect degrees\n",
        "            degrees.add(ent.text)\n",
        "\n",
        "    # Extract experience using regex\n",
        "    match = re.search(r\"(\\d+\\+?)\\s*(?:years|yrs)\\s*of experience\", cv_text, re.I)\n",
        "    experience = match.group(1) if match else \"Not Found\"\n",
        "\n",
        "    return list(skills), list(degrees), experience\n",
        "\n",
        "# Example usage\n",
        "skills, degrees, experience = extract_entities(extracted_text)\n",
        "\n",
        "print(\"Skills:\", skills)\n",
        "print(\"Degrees:\", degrees)\n",
        "print(\"Experience:\", experience)\n"
      ],
      "metadata": {
        "colab": {
          "base_uri": "https://localhost:8080/"
        },
        "id": "z_mbQMjlPqTj",
        "outputId": "39963149-95c0-45ce-b6d9-afb878362a5f"
      },
      "execution_count": 29,
      "outputs": [
        {
          "output_type": "stream",
          "name": "stderr",
          "text": [
            "[nltk_data] Downloading package stopwords to /root/nltk_data...\n",
            "[nltk_data]   Package stopwords is already up-to-date!\n"
          ]
        },
        {
          "output_type": "stream",
          "name": "stdout",
          "text": [
            "Skills: ['Uber - Manifold', 'Competitive Programming', 'DevFest', 'Task 2 - Develop', 'CRL Rank', 'ECell', 'Social Track', 'CloudCV - EvalAI', 'Oracle SQL', 'CSE Department', 'Flask\\n\\nData Visualization', 'HTML Fundamentals\\nCSS Fundamentals', 'SQL Fundamentals', 'Facebook - react-360', 'Web Club', 'JSSATE', 'Web Development', 'Matplotlib\\nData Analysis', 'Creative Commons', 'HTML & CSS', 'SQL', 'Data Structures', 'JavaScript', 'Material Components', 'DBMS\\no', 'ATTAC', 'Task 2 - Automate']\n",
            "Degrees: []\n",
            "Experience: 3+\n"
          ]
        }
      ]
    },
    {
      "cell_type": "code",
      "source": [],
      "metadata": {
        "id": "SoT2uSScRxNx"
      },
      "execution_count": null,
      "outputs": []
    }
  ],
  "metadata": {
    "colab": {
      "provenance": [],
      "collapsed_sections": [
        "GS9I3ahbM13k"
      ]
    },
    "kernelspec": {
      "display_name": "Python 3",
      "name": "python3"
    },
    "language_info": {
      "name": "python"
    }
  },
  "nbformat": 4,
  "nbformat_minor": 0
}